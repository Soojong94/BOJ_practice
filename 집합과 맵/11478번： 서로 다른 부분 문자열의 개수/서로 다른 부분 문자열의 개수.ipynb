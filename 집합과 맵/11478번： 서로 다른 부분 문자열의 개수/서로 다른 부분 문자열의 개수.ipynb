{
 "cells": [
  {
   "cell_type": "code",
   "execution_count": 14,
   "metadata": {},
   "outputs": [
    {
     "name": "stdout",
     "output_type": "stream",
     "text": [
      "12\n"
     ]
    }
   ],
   "source": [
    "# 입력 받는다\n",
    "# 문자열을 각각 나눈다\n",
    "S_char = list(input())\n",
    "\n",
    "# 각각 붙인다\n",
    "#슬라이싱 활용\n",
    "S_list = []\n",
    "for i in range(len(S_char)):\n",
    "    for j in range(i + 1, len(S_char) + 1):\n",
    "        S_list.append(''.join(S_char[i:j]))\n",
    "\n",
    "# set으로 중복 제거하고 len 을 출력\n",
    "S_seted = set(S_list)\n",
    "print(len(S_seted))\n",
    "\n"
   ]
  },
  {
   "cell_type": "code",
   "execution_count": 11,
   "metadata": {},
   "outputs": [],
   "source": []
  }
 ],
 "metadata": {
  "kernelspec": {
   "display_name": "base",
   "language": "python",
   "name": "python3"
  },
  "language_info": {
   "codemirror_mode": {
    "name": "ipython",
    "version": 3
   },
   "file_extension": ".py",
   "mimetype": "text/x-python",
   "name": "python",
   "nbconvert_exporter": "python",
   "pygments_lexer": "ipython3",
   "version": "3.11.5"
  }
 },
 "nbformat": 4,
 "nbformat_minor": 2
}
