{
 "cells": [
  {
   "cell_type": "code",
   "execution_count": 15,
   "metadata": {},
   "outputs": [
    {
     "name": "stdout",
     "output_type": "stream",
     "text": [
      "1 0 1 "
     ]
    }
   ],
   "source": [
    "# 딕셔너리를 활용한 풀이\n",
    "\n",
    "N = int(input())\n",
    "setNumber = list(map(int, input().split()))\n",
    "\n",
    "count = {setNumber[i] : 1 for i in range(N)}\n",
    "\n",
    "M = int(input())\n",
    "getNumber = list(map(int, input().split()))\n",
    "\n",
    "for j in getNumber :\n",
    "  print(count.get(j, 0), end=' ')\n"
   ]
  },
  {
   "cell_type": "code",
   "execution_count": 12,
   "metadata": {},
   "outputs": [
    {
     "name": "stdout",
     "output_type": "stream",
     "text": [
      "1 0 1 "
     ]
    }
   ],
   "source": [
    "# 폐기\n",
    "\n",
    "N = int(input())\n",
    "setNumber = list(map(int, input().split()))\n",
    "\n",
    "countNum = [0] * 500001\n",
    "\n",
    "for i in setNumber :\n",
    "  countNum[i] = 1\n",
    "\n",
    "M = int(input())\n",
    "getNumber = list(map(int, input().split()))\n",
    "\n",
    "for j in getNumber :\n",
    "  print(countNum[j], end=' ')"
   ]
  }
 ],
 "metadata": {
  "kernelspec": {
   "display_name": "base",
   "language": "python",
   "name": "python3"
  },
  "language_info": {
   "codemirror_mode": {
    "name": "ipython",
    "version": 3
   },
   "file_extension": ".py",
   "mimetype": "text/x-python",
   "name": "python",
   "nbconvert_exporter": "python",
   "pygments_lexer": "ipython3",
   "version": "3.11.5"
  }
 },
 "nbformat": 4,
 "nbformat_minor": 2
}
