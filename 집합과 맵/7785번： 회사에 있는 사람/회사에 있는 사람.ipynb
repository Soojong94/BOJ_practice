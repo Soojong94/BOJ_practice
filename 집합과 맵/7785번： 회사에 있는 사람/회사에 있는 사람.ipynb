{
 "cells": [
  {
   "cell_type": "code",
   "execution_count": 9,
   "metadata": {},
   "outputs": [
    {
     "name": "stdout",
     "output_type": "stream",
     "text": [
      "Askar\n",
      "Artem\n"
     ]
    }
   ],
   "source": [
    "n = int(input())\n",
    "\n",
    "people_dict = {}\n",
    "\n",
    "for i in range(n):\n",
    "    key, value = input().split()\n",
    "    people_dict[key] = value\n",
    "\n",
    "for i in sorted(people_dict.keys(), reverse=True):\n",
    "  if people_dict[i] == 'enter' :\n",
    "    print(i)"
   ]
  }
 ],
 "metadata": {
  "kernelspec": {
   "display_name": "base",
   "language": "python",
   "name": "python3"
  },
  "language_info": {
   "codemirror_mode": {
    "name": "ipython",
    "version": 3
   },
   "file_extension": ".py",
   "mimetype": "text/x-python",
   "name": "python",
   "nbconvert_exporter": "python",
   "pygments_lexer": "ipython3",
   "version": "3.11.5"
  }
 },
 "nbformat": 4,
 "nbformat_minor": 2
}
