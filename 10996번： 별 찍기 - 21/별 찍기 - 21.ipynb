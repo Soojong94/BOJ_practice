{
 "cells": [
  {
   "cell_type": "code",
   "execution_count": 107,
   "metadata": {},
   "outputs": [
    {
     "name": "stdout",
     "output_type": "stream",
     "text": [
      "*\n",
      "\n"
     ]
    }
   ],
   "source": [
    "# 2 -> 4줄 / 별 1  공백1+별1 별1 공백1+별1 \n",
    "# 홀수 줄 // 짝수줄 나눠서 해보기\n",
    "\n",
    "N = int(input())\n",
    "\n",
    "for num in range(1, 2*N+1) :\n",
    "  if num % 2 == 1 :\n",
    "    for i in range((N+1)//2):\n",
    "      print('*', end='')\n",
    "      if i != ((N+1)//2)-1:\n",
    "          print(' ', end='')\n",
    "    print()\n",
    "  else :\n",
    "    for i in range(N//2) :\n",
    "      print(' ', end='')\n",
    "      print('*', end='')\n",
    "    print()"
   ]
  }
 ],
 "metadata": {
  "kernelspec": {
   "display_name": "base",
   "language": "python",
   "name": "python3"
  },
  "language_info": {
   "codemirror_mode": {
    "name": "ipython",
    "version": 3
   },
   "file_extension": ".py",
   "mimetype": "text/x-python",
   "name": "python",
   "nbconvert_exporter": "python",
   "pygments_lexer": "ipython3",
   "version": "3.11.5"
  }
 },
 "nbformat": 4,
 "nbformat_minor": 2
}
