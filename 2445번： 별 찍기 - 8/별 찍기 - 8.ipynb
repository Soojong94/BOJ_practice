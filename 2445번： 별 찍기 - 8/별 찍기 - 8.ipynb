{
 "cells": [
  {
   "cell_type": "code",
   "execution_count": 21,
   "metadata": {},
   "outputs": [
    {
     "name": "stdout",
     "output_type": "stream",
     "text": [
      "*        *\n",
      "**      **\n",
      "***    ***\n",
      "****  ****\n",
      "**********\n",
      "****  ****\n",
      "***    ***\n",
      "**      **\n",
      "*        *\n"
     ]
    }
   ],
   "source": [
    "N = int(input())\n",
    "\n",
    "for i in range(1, N+1) :\n",
    "  for j in range(i) :\n",
    "    print('*', end='')\n",
    "  for k in range(2 * (N-i)) :\n",
    "    print(' ',end='')\n",
    "  for j in range(i) :\n",
    "    print('*', end='')\n",
    "  print()\n",
    "\n",
    "for i in range(N-1, 0, -1) :\n",
    "  for j in range(i) :\n",
    "    print('*', end='')\n",
    "  for k in range(2 * (N-i)) :\n",
    "    print(' ',end='')\n",
    "  for j in range(i) :\n",
    "    print('*', end='')\n",
    "  print()"
   ]
  }
 ],
 "metadata": {
  "kernelspec": {
   "display_name": "base",
   "language": "python",
   "name": "python3"
  },
  "language_info": {
   "codemirror_mode": {
    "name": "ipython",
    "version": 3
   },
   "file_extension": ".py",
   "mimetype": "text/x-python",
   "name": "python",
   "nbconvert_exporter": "python",
   "pygments_lexer": "ipython3",
   "version": "3.11.5"
  }
 },
 "nbformat": 4,
 "nbformat_minor": 2
}
