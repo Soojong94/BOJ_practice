{
 "cells": [
  {
   "cell_type": "code",
   "execution_count": 42,
   "metadata": {},
   "outputs": [
    {
     "name": "stdout",
     "output_type": "stream",
     "text": [
      "[1, 3, 2, 5, 4]\n"
     ]
    }
   ],
   "source": [
    "from collections import deque\n",
    "N = int(input())\n",
    "que = deque() \n",
    "nums = list(map(int, input().split()))\n",
    "stack = []\n",
    "\n",
    "for i in range(N) :\n",
    "  num_dict = {i+1 : nums[i]}\n",
    "  que.append(num_dict)\n",
    "\n",
    "\n",
    "while que :\n",
    "  current_dict = que[0]\n",
    "  current_key, current_value = list(current_dict.items())[0]\n",
    "  # 양수의 경우 오른쪽 이동\n",
    "  if current_value > 0 :\n",
    "    stack.append(que.popleft().keys()[0])\n",
    "    que.rotate(-current_value)\n",
    "    \n",
    "  # 음수의 경우 왼쪽 이동\n",
    "  else :\n",
    "    stack.append(que.pop().keys()[0])\n",
    "    que.rotate(current_value)\n",
    "    \n",
    "    \n",
    "print([list(item.keys())[0] for item in stack])"
   ]
  },
  {
   "cell_type": "code",
   "execution_count": null,
   "metadata": {},
   "outputs": [],
   "source": []
  }
 ],
 "metadata": {
  "kernelspec": {
   "display_name": "codingTest",
   "language": "python",
   "name": "codingtest"
  },
  "language_info": {
   "codemirror_mode": {
    "name": "ipython",
    "version": 3
   },
   "file_extension": ".py",
   "mimetype": "text/x-python",
   "name": "python",
   "nbconvert_exporter": "python",
   "pygments_lexer": "ipython3",
   "version": "3.12.2"
  }
 },
 "nbformat": 4,
 "nbformat_minor": 2
}
