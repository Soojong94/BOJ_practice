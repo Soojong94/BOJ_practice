{
 "cells": [
  {
   "cell_type": "code",
   "execution_count": 13,
   "metadata": {},
   "outputs": [
    {
     "name": "stdout",
     "output_type": "stream",
     "text": [
      "1 4 5 3 2\n"
     ]
    }
   ],
   "source": [
    "import sys\n",
    "def input() :\n",
    "  return sys.stdin.readline()\n",
    "\n",
    "from collections import deque\n",
    "\n",
    "N = int(input())\n",
    "que = deque(range(1,N+1))\n",
    "nums = list(map(int, input().split()))\n",
    "stack = []\n",
    "\n",
    "\n",
    "while que :\n",
    "  current_num = que.popleft()\n",
    "  stack.append(current_num)\n",
    "  \n",
    "  num = nums[current_num-1] \n",
    "\n",
    "  # 양수 나오면 왼쪽 회전\n",
    "  # 음수 나오면  오른쪽 회전\n",
    "  if num > 0 :\n",
    "    que.rotate(-(num-1))\n",
    "  else :\n",
    "    que.rotate(-num)\n",
    "    \n",
    "print(' '.join(map(str, stack)))"
   ]
  }
 ],
 "metadata": {
  "kernelspec": {
   "display_name": "base",
   "language": "python",
   "name": "python3"
  },
  "language_info": {
   "codemirror_mode": {
    "name": "ipython",
    "version": 3
   },
   "file_extension": ".py",
   "mimetype": "text/x-python",
   "name": "python",
   "nbconvert_exporter": "python",
   "pygments_lexer": "ipython3",
   "version": "3.11.5"
  }
 },
 "nbformat": 4,
 "nbformat_minor": 2
}
