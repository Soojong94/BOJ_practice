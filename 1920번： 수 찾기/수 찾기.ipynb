{
 "cells": [
  {
   "cell_type": "code",
   "execution_count": 11,
   "metadata": {},
   "outputs": [
    {
     "name": "stdout",
     "output_type": "stream",
     "text": [
      "1\n",
      "1\n",
      "1\n",
      "0\n",
      "0\n"
     ]
    }
   ],
   "source": [
    "N = int(input())\n",
    "nums1 = {}\n",
    "for num in input().split():\n",
    "    nums1[int(num)] = 1\n",
    "\n",
    "M = int(input())\n",
    "nums2 = list(map(int, input().split()))\n",
    "\n",
    "for i in nums2 :\n",
    "  if i in nums1 :\n",
    "    print('1')\n",
    "  else :\n",
    "    print('0')\n"
   ]
  }
 ],
 "metadata": {
  "kernelspec": {
   "display_name": "base",
   "language": "python",
   "name": "python3"
  },
  "language_info": {
   "codemirror_mode": {
    "name": "ipython",
    "version": 3
   },
   "file_extension": ".py",
   "mimetype": "text/x-python",
   "name": "python",
   "nbconvert_exporter": "python",
   "pygments_lexer": "ipython3",
   "version": "3.11.5"
  }
 },
 "nbformat": 4,
 "nbformat_minor": 2
}
