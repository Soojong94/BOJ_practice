{
 "cells": [
  {
   "cell_type": "code",
   "execution_count": 11,
   "metadata": {},
   "outputs": [
    {
     "name": "stdout",
     "output_type": "stream",
     "text": [
      "5\n",
      "11\n",
      "101\n"
     ]
    }
   ],
   "source": [
    "import sys\n",
    "input=sys.stdin.readline\n",
    "\n",
    "def is_prime(num) :\n",
    "  for i in range(2, int(num ** (1/2))+1) :\n",
    "    if num % i == 0 :\n",
    "      return False\n",
    "  return True\n",
    "\n",
    "N=int(input())\n",
    "\n",
    "for i in range (N) :\n",
    "  num = int(input())\n",
    "  while True :\n",
    "    if num == 0 or num == 1:\n",
    "      print(2)\n",
    "      break\n",
    "    if is_prime(num) :\n",
    "      print(num)\n",
    "      break\n",
    "    else : \n",
    "      num += 1"
   ]
  }
 ],
 "metadata": {
  "kernelspec": {
   "display_name": "base",
   "language": "python",
   "name": "python3"
  },
  "language_info": {
   "codemirror_mode": {
    "name": "ipython",
    "version": 3
   },
   "file_extension": ".py",
   "mimetype": "text/x-python",
   "name": "python",
   "nbconvert_exporter": "python",
   "pygments_lexer": "ipython3",
   "version": "3.11.5"
  }
 },
 "nbformat": 4,
 "nbformat_minor": 2
}
