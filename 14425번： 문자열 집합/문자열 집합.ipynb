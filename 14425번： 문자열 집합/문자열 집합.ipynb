{
 "cells": [
  {
   "cell_type": "code",
   "execution_count": 8,
   "metadata": {},
   "outputs": [
    {
     "name": "stdout",
     "output_type": "stream",
     "text": [
      "2\n"
     ]
    }
   ],
   "source": [
    "N, M = map(int,input().split())\n",
    "Nstr = []\n",
    "Mstr = []\n",
    "for i in range(N) : \n",
    "  Nstr.append(input())\n",
    "\n",
    "count = {Nstr[i] : 1 for i in range(N)}\n",
    "\n",
    "for j in range(M) :\n",
    "  Mstr.append(input())\n",
    "\n",
    "cnt = 0\n",
    "\n",
    "for k in Mstr :\n",
    "  cnt += count.get(k , 0)\n",
    "  \n",
    "print(cnt)"
   ]
  }
 ],
 "metadata": {
  "kernelspec": {
   "display_name": "base",
   "language": "python",
   "name": "python3"
  },
  "language_info": {
   "codemirror_mode": {
    "name": "ipython",
    "version": 3
   },
   "file_extension": ".py",
   "mimetype": "text/x-python",
   "name": "python",
   "nbconvert_exporter": "python",
   "pygments_lexer": "ipython3",
   "version": "3.11.5"
  }
 },
 "nbformat": 4,
 "nbformat_minor": 2
}
