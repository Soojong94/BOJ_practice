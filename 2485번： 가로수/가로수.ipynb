{
 "cells": [
  {
   "cell_type": "code",
   "execution_count": 4,
   "metadata": {},
   "outputs": [
    {
     "name": "stdout",
     "output_type": "stream",
     "text": [
      "3\n"
     ]
    }
   ],
   "source": [
    "import math\n",
    "import sys\n",
    "\n",
    "def input():\n",
    "    return sys.stdin.readline()\n",
    "\n",
    "N = int(input())\n",
    "N1 = int(input())\n",
    "nums = []\n",
    "\n",
    "for j in range(N - 1):\n",
    "    num = int(input())\n",
    "    nums.append(num - N1)\n",
    "    N1 = num\n",
    "\n",
    "gcd1 = math.gcd(*nums)\n",
    "\n",
    "# 최대공약수를 이용하여 카운트 계산\n",
    "cnt = 0\n",
    "for num in nums:\n",
    "    cnt += (num // gcd1) - 1\n",
    "\n",
    "print(cnt)\n"
   ]
  }
 ],
 "metadata": {
  "kernelspec": {
   "display_name": "base",
   "language": "python",
   "name": "python3"
  },
  "language_info": {
   "codemirror_mode": {
    "name": "ipython",
    "version": 3
   },
   "file_extension": ".py",
   "mimetype": "text/x-python",
   "name": "python",
   "nbconvert_exporter": "python",
   "pygments_lexer": "ipython3",
   "version": "3.11.5"
  }
 },
 "nbformat": 4,
 "nbformat_minor": 2
}
