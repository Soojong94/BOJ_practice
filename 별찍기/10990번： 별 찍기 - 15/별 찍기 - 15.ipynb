{
 "cells": [
  {
   "cell_type": "code",
   "execution_count": 13,
   "metadata": {},
   "outputs": [
    {
     "name": "stdout",
     "output_type": "stream",
     "text": [
      "  *\n",
      " *\n",
      "*   *\n"
     ]
    }
   ],
   "source": [
    "N = int(input())\n",
    "for i in range (N) :\n",
    "  for j in range(N-i-1) :\n",
    "    print(\" \", end='')\n",
    "  print('*', end='')\n",
    "  if i > 0  :\n",
    "    for k in range(i*2-1) :\n",
    "      print(\" \", end='')\n",
    "    print('*', end='')\n",
    "  print()\n",
    "\n",
    "  \n"
   ]
  }
 ],
 "metadata": {
  "kernelspec": {
   "display_name": "base",
   "language": "python",
   "name": "python3"
  },
  "language_info": {
   "codemirror_mode": {
    "name": "ipython",
    "version": 3
   },
   "file_extension": ".py",
   "mimetype": "text/x-python",
   "name": "python",
   "nbconvert_exporter": "python",
   "pygments_lexer": "ipython3",
   "version": "3.11.5"
  }
 },
 "nbformat": 4,
 "nbformat_minor": 2
}
