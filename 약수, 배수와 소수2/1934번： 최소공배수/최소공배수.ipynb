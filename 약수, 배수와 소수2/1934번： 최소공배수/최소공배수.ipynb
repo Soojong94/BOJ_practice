{
 "cells": [
  {
   "cell_type": "code",
   "execution_count": 17,
   "metadata": {},
   "outputs": [
    {
     "name": "stdout",
     "output_type": "stream",
     "text": [
      "3\n",
      "15\n"
     ]
    }
   ],
   "source": [
    "def divisor(number) :\n",
    "  result = []\n",
    "  for i in range(1, int(number**(1/2))+1) :\n",
    "    if number % i == 0 :\n",
    "      result.append(i)\n",
    "      if i < number//i :\n",
    "        result.append(number//i)\n",
    "  result.sort()\n",
    "  return result\n",
    "\n",
    "T = int(input())\n",
    "\n",
    "nums = []\n",
    "\n",
    "for i in range(T) :\n",
    "  X, Y = map(int,input().split())\n",
    "  nums.append((X, Y))\n",
    "  \n",
    "  X_set = set(divisor(nums[i][0]))\n",
    "  Y_set = set(divisor(nums[i][1]))\n",
    "  \n",
    "  intersection = X_set & Y_set\n",
    "  \n",
    "  print(X * Y // max(intersection))\n",
    "\n"
   ]
  },
  {
   "cell_type": "code",
   "execution_count": 9,
   "metadata": {},
   "outputs": [
    {
     "name": "stdout",
     "output_type": "stream",
     "text": [
      "30\n"
     ]
    }
   ],
   "source": [
    "# 최대 공배수  = a*b를 a,b의 최대 공약수로 나눈 값\n",
    "# 최대 공약수 = math.gcd 함수를 사용하면 됨\n",
    "\n",
    "\n",
    "import math\n",
    "\n",
    "def lcm(a, b): # 최대공배수\n",
    "    return a * b // math.gcd(a, b) #math.gcd -> 최대 공약수\n",
    "\n",
    "# 예시  \n",
    "num1 = 10\n",
    "num2 = 15\n",
    "print(lcm(num1, num2))"
   ]
  }
 ],
 "metadata": {
  "kernelspec": {
   "display_name": "base",
   "language": "python",
   "name": "python3"
  },
  "language_info": {
   "codemirror_mode": {
    "name": "ipython",
    "version": 3
   },
   "file_extension": ".py",
   "mimetype": "text/x-python",
   "name": "python",
   "nbconvert_exporter": "python",
   "pygments_lexer": "ipython3",
   "version": "3.11.5"
  }
 },
 "nbformat": 4,
 "nbformat_minor": 2
}
