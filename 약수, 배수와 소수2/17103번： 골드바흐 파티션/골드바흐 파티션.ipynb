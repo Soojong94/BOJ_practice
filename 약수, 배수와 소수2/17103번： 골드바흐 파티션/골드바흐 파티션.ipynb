{
 "cells": [
  {
   "cell_type": "code",
   "execution_count": 18,
   "metadata": {},
   "outputs": [
    {
     "name": "stdout",
     "output_type": "stream",
     "text": [
      "2\n",
      "1\n",
      "1\n",
      "1\n",
      "6\n"
     ]
    }
   ],
   "source": [
    "import sys \n",
    "def input() :\n",
    "  return sys.stdin.readline()\n",
    "\n",
    "# 에라토스테네스\n",
    "def eratos(n) :\n",
    "  primes = [True] * (n +1)\n",
    "  primes[0] = primes[1] = False\n",
    "  for i in range(2, int(n**0.5)+1) :\n",
    "    if primes[i] :\n",
    "      for j in range(i*i, n+1, i) :\n",
    "        primes[j] = False\n",
    "  return [i for i in range(n+1) if primes[i]]\n",
    "\n",
    "# 이진탐색\n",
    "def search(primes, n) :\n",
    "  cnt = 0\n",
    "  l, r = 0, len(primes)-1\n",
    "  while l <= r :\n",
    "    if primes[l] + primes[r] == n :\n",
    "      cnt += 1\n",
    "      l += 1\n",
    "      r -= 1\n",
    "    elif primes[l] + primes[r] < n :\n",
    "      l += 1\n",
    "    else : \n",
    "      r -= 1\n",
    "  return cnt\n",
    "\n",
    "T = int(input())\n",
    "primes = eratos(1000000)\n",
    "for i in range(T) :\n",
    "  num = int(input())\n",
    "  print(search(primes, num))\n"
   ]
  },
  {
   "cell_type": "code",
   "execution_count": null,
   "metadata": {},
   "outputs": [],
   "source": []
  }
 ],
 "metadata": {
  "kernelspec": {
   "display_name": "base",
   "language": "python",
   "name": "python3"
  },
  "language_info": {
   "codemirror_mode": {
    "name": "ipython",
    "version": 3
   },
   "file_extension": ".py",
   "mimetype": "text/x-python",
   "name": "python",
   "nbconvert_exporter": "python",
   "pygments_lexer": "ipython3",
   "version": "3.11.5"
  }
 },
 "nbformat": 4,
 "nbformat_minor": 2
}
