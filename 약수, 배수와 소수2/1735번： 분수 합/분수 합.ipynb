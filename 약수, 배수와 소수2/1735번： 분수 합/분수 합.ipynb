{
 "cells": [
  {
   "cell_type": "code",
   "execution_count": 15,
   "metadata": {},
   "outputs": [
    {
     "name": "stdout",
     "output_type": "stream",
     "text": [
      "5 4\n"
     ]
    }
   ],
   "source": [
    "import math\n",
    "\n",
    "def lcm(num1, num2):\n",
    "    return num1 * num2 // math.gcd(num1, num2)\n",
    "\n",
    "A, B = map(int, input().split())\n",
    "C, D = map(int, input().split())\n",
    "\n",
    "lcm_result = lcm(B, D)\n",
    "\n",
    "num1 = lcm_result // B * A \n",
    "num2 = lcm_result // D * C\n",
    "answer = num1 + num2\n",
    "\n",
    "common = math.gcd(lcm_result, answer)\n",
    "lcm_result //= common\n",
    "answer //= common\n",
    "\n",
    "print(answer, lcm_result)"
   ]
  }
 ],
 "metadata": {
  "kernelspec": {
   "display_name": "base",
   "language": "python",
   "name": "python3"
  },
  "language_info": {
   "codemirror_mode": {
    "name": "ipython",
    "version": 3
   },
   "file_extension": ".py",
   "mimetype": "text/x-python",
   "name": "python",
   "nbconvert_exporter": "python",
   "pygments_lexer": "ipython3",
   "version": "3.11.5"
  }
 },
 "nbformat": 4,
 "nbformat_minor": 2
}
