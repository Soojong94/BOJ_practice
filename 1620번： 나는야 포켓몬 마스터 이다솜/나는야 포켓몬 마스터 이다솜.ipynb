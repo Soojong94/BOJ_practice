{
 "cells": [
  {
   "cell_type": "code",
   "execution_count": 12,
   "metadata": {},
   "outputs": [
    {
     "name": "stdout",
     "output_type": "stream",
     "text": [
      "3\n",
      "Ivysaur\n",
      "Bulbasaur\n"
     ]
    }
   ],
   "source": [
    "import sys\n",
    "\n",
    "def input():\n",
    "    return sys.stdin.readline()\n",
    "\n",
    "N, M = map(int, input().split())\n",
    "\n",
    "pokes = {}\n",
    "\n",
    "# 포켓몬의 이름을 키로 사용하여 번호를 값으로 갖는 딕셔너리 생성\n",
    "# 번호를 키로 사용하여 이름을 값으로 갖는 딕셔너리도 생성\n",
    "for i in range(N):\n",
    "    poke = input().strip()  # 문자열 좌우 공백 제거\n",
    "    pokes[poke] = str(i + 1)  # 이름을 키로 사용하여 번호 저장\n",
    "    pokes[str(i + 1)] = poke  # 번호를 키로 사용하여 이름 저장\n",
    "\n",
    "for j in range(M):\n",
    "    answer = input().strip()  # 문자열 좌우 공백 제거\n",
    "    print(pokes[answer])  # 해당하는 포켓몬이 없는 경우 메시지 출력\n"
   ]
  },
  {
   "cell_type": "code",
   "execution_count": null,
   "metadata": {},
   "outputs": [],
   "source": [
    "import sys\n",
    "\n",
    "def input() :\n",
    "  return sys.stdin.readline()"
   ]
  }
 ],
 "metadata": {
  "kernelspec": {
   "display_name": "base",
   "language": "python",
   "name": "python3"
  },
  "language_info": {
   "codemirror_mode": {
    "name": "ipython",
    "version": 3
   },
   "file_extension": ".py",
   "mimetype": "text/x-python",
   "name": "python",
   "nbconvert_exporter": "python",
   "pygments_lexer": "ipython3",
   "version": "3.11.5"
  }
 },
 "nbformat": 4,
 "nbformat_minor": 2
}
