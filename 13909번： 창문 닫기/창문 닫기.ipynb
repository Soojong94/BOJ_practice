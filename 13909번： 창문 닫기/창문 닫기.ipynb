{
 "cells": [
  {
   "cell_type": "code",
   "execution_count": 33,
   "metadata": {},
   "outputs": [
    {
     "name": "stdout",
     "output_type": "stream",
     "text": [
      "5\n"
     ]
    }
   ],
   "source": [
    "N = int(input())\n",
    "print(int(N**0.5))"
   ]
  },
  {
   "cell_type": "markdown",
   "metadata": {},
   "source": [
    "### 제곱근을 구하면 됨\n",
    "- 약수의 개수가 짝수면 닫힘\n",
    "- 약수의 개수가 홀수면 열림\n",
    "- 소수 또한 약수의 개수가 짝수\n",
    "- 약수의 개수가 홀수이려면 제곱수여야함\n",
    "  - 따라서 \n",
    "  ```2**2 / 3**2 4**2```\n",
    "  이런 식으로 1개씩 늘어나는 규칙성이 있음\n",
    "- 그러면 루트를 씌워서 int 형으로 변경해주면 됨"
   ]
  }
 ],
 "metadata": {
  "kernelspec": {
   "display_name": "base",
   "language": "python",
   "name": "python3"
  },
  "language_info": {
   "codemirror_mode": {
    "name": "ipython",
    "version": 3
   },
   "file_extension": ".py",
   "mimetype": "text/x-python",
   "name": "python",
   "nbconvert_exporter": "python",
   "pygments_lexer": "ipython3",
   "version": "3.11.5"
  }
 },
 "nbformat": 4,
 "nbformat_minor": 2
}
