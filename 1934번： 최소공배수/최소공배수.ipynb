{
 "cells": [
  {
   "cell_type": "code",
   "execution_count": null,
   "metadata": {},
   "outputs": [],
   "source": [
    "# 각 수의 약수를 구하고\n",
    "# 1과 자신 숫자를 제외한 약수를 곱하면 최소 공배수가 될까요"
   ]
  }
 ],
 "metadata": {
  "language_info": {
   "name": "python"
  }
 },
 "nbformat": 4,
 "nbformat_minor": 2
}
