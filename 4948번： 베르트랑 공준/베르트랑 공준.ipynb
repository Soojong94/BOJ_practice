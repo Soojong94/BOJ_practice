{
 "cells": [
  {
   "cell_type": "code",
   "execution_count": 1,
   "metadata": {},
   "outputs": [
    {
     "name": "stdout",
     "output_type": "stream",
     "text": [
      "1\n",
      "4\n",
      "3\n",
      "21\n"
     ]
    }
   ],
   "source": [
    "# import sys\n",
    "  \n",
    "# def input() :\n",
    "#   return sys.stdin.readline()\n",
    "\n",
    "def isPrime(num) :\n",
    "  for i in range(2, int(num ** (1/2)+1)) :\n",
    "    if num % i == 0 :\n",
    "      return False\n",
    "  return True\n",
    "\n",
    "while True :\n",
    "  num = int(input())\n",
    "  cnt = 0\n",
    "  if num == 0 :\n",
    "    break\n",
    "  for i in range(num+1, 2*num+1) :\n",
    "   if isPrime(i) :\n",
    "      cnt += 1\n",
    "  print(cnt)"
   ]
  }
 ],
 "metadata": {
  "kernelspec": {
   "display_name": "base",
   "language": "python",
   "name": "python3"
  },
  "language_info": {
   "codemirror_mode": {
    "name": "ipython",
    "version": 3
   },
   "file_extension": ".py",
   "mimetype": "text/x-python",
   "name": "python",
   "nbconvert_exporter": "python",
   "pygments_lexer": "ipython3",
   "version": "3.11.5"
  }
 },
 "nbformat": 4,
 "nbformat_minor": 2
}
