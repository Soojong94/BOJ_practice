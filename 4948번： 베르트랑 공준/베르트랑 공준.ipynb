{
 "cells": [
  {
   "cell_type": "code",
   "execution_count": 1,
   "metadata": {},
   "outputs": [
    {
     "name": "stdout",
     "output_type": "stream",
     "text": [
      "1\n",
      "4\n",
      "3\n",
      "21\n"
     ]
    }
   ],
   "source": [
    "# import sys\n",
    "# def input() :\n",
    "#   return sys.stdin.readline()\n",
    "\n",
    "def isPrime(num) :\n",
    "  for i in range(2, int(num ** (1/2)+1)) :\n",
    "    if num % i == 0 :\n",
    "      return False\n",
    "  return True\n",
    "\n",
    "while True :\n",
    "  num = int(input())\n",
    "  cnt = 0\n",
    "  if num == 0 :\n",
    "    break\n",
    "  for i in range(num+1, 2*num+1) :\n",
    "   if isPrime(i) :\n",
    "      cnt += 1\n",
    "  print(cnt)"
   ]
  },
  {
   "cell_type": "code",
   "execution_count": 4,
   "metadata": {},
   "outputs": [
    {
     "name": "stdout",
     "output_type": "stream",
     "text": [
      "8392\n",
      "8392\n",
      "1033\n",
      "21\n",
      "135\n",
      "4\n"
     ]
    }
   ],
   "source": [
    "import sys\n",
    "def input() :\n",
    "  return sys.stdin.readline()\n",
    "\n",
    "def eratosthenes2N(n) :\n",
    "  primes = [True] * (2*n+1)\n",
    "  primes[0] = primes[1] = False\n",
    "  for i in range(2, int((2*n)**0.5)+1) :\n",
    "    if primes[i] :\n",
    "      for j in range(i*i, 2*n+1,i) :\n",
    "        primes[j] = False\n",
    "  return primes\n",
    "\n",
    "def primes(n) :\n",
    "  primes = eratosthenes2N(n)\n",
    "  count = 0\n",
    "  for i in range(n+1, 2*n+1) :\n",
    "    if primes[i] :\n",
    "      count += 1\n",
    "  return count\n",
    "\n",
    "while True :\n",
    "  n = int(input())\n",
    "  if n == 0 :\n",
    "    break\n",
    "  else : \n",
    "    print(primes(n))"
   ]
  }
 ],
 "metadata": {
  "kernelspec": {
   "display_name": "base",
   "language": "python",
   "name": "python3"
  },
  "language_info": {
   "codemirror_mode": {
    "name": "ipython",
    "version": 3
   },
   "file_extension": ".py",
   "mimetype": "text/x-python",
   "name": "python",
   "nbconvert_exporter": "python",
   "pygments_lexer": "ipython3",
   "version": "3.11.5"
  }
 },
 "nbformat": 4,
 "nbformat_minor": 2
}
