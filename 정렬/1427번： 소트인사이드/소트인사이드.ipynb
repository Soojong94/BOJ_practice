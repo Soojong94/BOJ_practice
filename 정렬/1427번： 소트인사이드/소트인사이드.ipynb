{
 "cells": [
  {
   "cell_type": "code",
   "execution_count": 24,
   "metadata": {},
   "outputs": [],
   "source": [
    "import sys\n",
    "def input() :\n",
    "  return sys.stdin.readline()\n",
    "\n",
    "N = int(input())\n",
    "nums = []\n",
    "\n",
    "while N > 0 :\n",
    "  num = N % 10\n",
    "  nums.append(num)\n",
    "  N = N // 10\n",
    "  \n",
    "nums.sort(reverse=True)\n",
    "for i in nums :\n",
    "  print(i, end='')"
   ]
  },
  {
   "cell_type": "code",
   "execution_count": null,
   "metadata": {},
   "outputs": [],
   "source": []
  }
 ],
 "metadata": {
  "kernelspec": {
   "display_name": "base",
   "language": "python",
   "name": "python3"
  },
  "language_info": {
   "codemirror_mode": {
    "name": "ipython",
    "version": 3
   },
   "file_extension": ".py",
   "mimetype": "text/x-python",
   "name": "python",
   "nbconvert_exporter": "python",
   "pygments_lexer": "ipython3",
   "version": "3.11.5"
  }
 },
 "nbformat": 4,
 "nbformat_minor": 2
}
