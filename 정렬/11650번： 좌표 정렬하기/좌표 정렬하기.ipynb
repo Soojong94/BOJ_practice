{
 "cells": [
  {
   "cell_type": "code",
   "execution_count": 2,
   "metadata": {},
   "outputs": [
    {
     "name": "stdout",
     "output_type": "stream",
     "text": [
      "[3, 5]\n",
      "[2, 4]\n"
     ]
    }
   ],
   "source": [
    "N = int(input())\n",
    "xNums = []\n",
    "yNums = []\n",
    "\n",
    "for i in range(N) :\n",
    "  num = list(map(int, input().split()))\n",
    "  xNums.append(num[0])\n",
    "  yNums.append(num[1])\n",
    "print(xNums)\n",
    "print(yNums)"
   ]
  },
  {
   "cell_type": "code",
   "execution_count": 13,
   "metadata": {},
   "outputs": [
    {
     "name": "stdout",
     "output_type": "stream",
     "text": [
      "1 5\n",
      "3 7\n"
     ]
    }
   ],
   "source": [
    "N = int(input())\n",
    "nums = []\n",
    "\n",
    "for i in range(N):\n",
    "\n",
    "    x, y = map(int, input().split())\n",
    "    nums.append([x, y])\n",
    "\n",
    "nums.sort()\n",
    "\n",
    "for i in range(N) :\n",
    "  print(nums[i][0], end=' ')\n",
    "  print(nums[i][1])"
   ]
  }
 ],
 "metadata": {
  "kernelspec": {
   "display_name": "base",
   "language": "python",
   "name": "python3"
  },
  "language_info": {
   "codemirror_mode": {
    "name": "ipython",
    "version": 3
   },
   "file_extension": ".py",
   "mimetype": "text/x-python",
   "name": "python",
   "nbconvert_exporter": "python",
   "pygments_lexer": "ipython3",
   "version": "3.11.5"
  }
 },
 "nbformat": 4,
 "nbformat_minor": 2
}
