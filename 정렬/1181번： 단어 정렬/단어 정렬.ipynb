{
 "cells": [
  {
   "cell_type": "code",
   "execution_count": 9,
   "metadata": {},
   "outputs": [
    {
     "name": "stdout",
     "output_type": "stream",
     "text": [
      "ab\n",
      "abc\n",
      "abcd\n"
     ]
    }
   ],
   "source": [
    "N = int(input())\n",
    "str1 = []\n",
    "\n",
    "for i in range(N):\n",
    "  str2 = input()\n",
    "  strLen = len(str2)\n",
    "  str1.append((str2,strLen))\n",
    "  \n",
    "\n",
    "\n",
    "# 중복제거 해야함\n",
    "str3 = set(str1)\n",
    "\n",
    "str_sorted = sorted(str3, key=lambda str3 :(str3[1], str3[0]))\n",
    "\n",
    "for i in str_sorted :\n",
    "  print(i[0])"
   ]
  }
 ],
 "metadata": {
  "kernelspec": {
   "display_name": "base",
   "language": "python",
   "name": "python3"
  },
  "language_info": {
   "codemirror_mode": {
    "name": "ipython",
    "version": 3
   },
   "file_extension": ".py",
   "mimetype": "text/x-python",
   "name": "python",
   "nbconvert_exporter": "python",
   "pygments_lexer": "ipython3",
   "version": "3.11.5"
  }
 },
 "nbformat": 4,
 "nbformat_minor": 2
}
