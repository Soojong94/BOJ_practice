{
 "cells": [
  {
   "cell_type": "code",
   "execution_count": 8,
   "metadata": {},
   "outputs": [
    {
     "name": "stdout",
     "output_type": "stream",
     "text": [
      "-1 5\n",
      "1 5\n",
      "3 5\n"
     ]
    }
   ],
   "source": [
    "N = int(input())\n",
    "nums = []\n",
    "for _ in range(N):\n",
    "    x, y = map(int, input().split())\n",
    "    nums.append((x, y))\n",
    "\n",
    "sorted_nums = sorted(nums, key=lambda nums: (nums[1], nums[0]))\n",
    "\n",
    "for i in sorted_nums:\n",
    "    print(i[0], i[1])\n"
   ]
  }
 ],
 "metadata": {
  "kernelspec": {
   "display_name": "base",
   "language": "python",
   "name": "python3"
  },
  "language_info": {
   "codemirror_mode": {
    "name": "ipython",
    "version": 3
   },
   "file_extension": ".py",
   "mimetype": "text/x-python",
   "name": "python",
   "nbconvert_exporter": "python",
   "pygments_lexer": "ipython3",
   "version": "3.11.5"
  }
 },
 "nbformat": 4,
 "nbformat_minor": 2
}
