{
 "cells": [
  {
   "cell_type": "code",
   "execution_count": 8,
   "metadata": {},
   "outputs": [
    {
     "name": "stdout",
     "output_type": "stream",
     "text": [
      "56\n",
      "345\n",
      "3425\n"
     ]
    }
   ],
   "source": [
    "N = int(input())\n",
    "nums = []\n",
    "for i in range(N):\n",
    "    nums.append(int(input()))\n",
    "\n",
    "mergeNums = mergeSort(nums)\n",
    "for num in mergeNums:\n",
    "    print(num)"
   ]
  },
  {
   "cell_type": "code",
   "execution_count": 6,
   "metadata": {},
   "outputs": [],
   "source": [
    "def merge (left, right) :\n",
    "  result = []\n",
    "  l , r = 0 , 0\n",
    "  while l < len(left) and r < len(right) :\n",
    "    if left[l] < right[r] :\n",
    "      result.append(left[l])\n",
    "      l += 1\n",
    "    else :\n",
    "      result.append(right[r])\n",
    "      r += 1\n",
    "  result.extend(left[l:])\n",
    "  result.extend(right[r:])\n",
    "  return result"
   ]
  },
  {
   "cell_type": "code",
   "execution_count": 7,
   "metadata": {},
   "outputs": [],
   "source": [
    "def mergeSort(arr) :\n",
    "  if len (arr) <= 1 :\n",
    "    return arr\n",
    "  \n",
    "  middle = len(arr) // 2\n",
    "  left = mergeSort(arr[:middle])\n",
    "  right = mergeSort(arr[middle:])\n",
    "  \n",
    "  return merge(left, right)"
   ]
  },
  {
   "cell_type": "code",
   "execution_count": 1,
   "metadata": {},
   "outputs": [
    {
     "name": "stdout",
     "output_type": "stream",
     "text": [
      "123\n",
      "435\n",
      "5647\n"
     ]
    }
   ],
   "source": [
    "N = int(input())\n",
    "\n",
    "count = [0] * 10001\n",
    "\n",
    "for _ in range(N):\n",
    "    num = int(input())\n",
    "    count[num] += 1\n",
    "  \n",
    "for i in range(10001):\n",
    "    if count[i] != 0:\n",
    "        for j in range(count[i]):\n",
    "            print(i)"
   ]
  },
  {
   "cell_type": "code",
   "execution_count": 1,
   "metadata": {},
   "outputs": [],
   "source": [
    "# 맞은 코드 / 시간초과, 메모리 초과 둘 다 신경 써야 함\n",
    "\n",
    "import sys\n",
    "\n",
    "def input() :\n",
    "    return sys.stdin.readline()\n",
    "\n",
    "N = int(input())\n",
    "\n",
    "count = [0] * 10001\n",
    "\n",
    "for i in range(N):\n",
    "    num = int(input())\n",
    "    count[num] += 1\n",
    "\n",
    "for i in range(1, 10001):\n",
    "    for j in range(count[i]):\n",
    "        print(i)"
   ]
  }
 ],
 "metadata": {
  "kernelspec": {
   "display_name": "base",
   "language": "python",
   "name": "python3"
  },
  "language_info": {
   "codemirror_mode": {
    "name": "ipython",
    "version": 3
   },
   "file_extension": ".py",
   "mimetype": "text/x-python",
   "name": "python",
   "nbconvert_exporter": "python",
   "pygments_lexer": "ipython3",
   "version": "3.11.5"
  }
 },
 "nbformat": 4,
 "nbformat_minor": 2
}
