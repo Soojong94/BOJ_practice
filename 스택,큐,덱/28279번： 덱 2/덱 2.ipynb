{
 "cells": [
  {
   "cell_type": "code",
   "execution_count": 13,
   "metadata": {},
   "outputs": [
    {
     "name": "stdout",
     "output_type": "stream",
     "text": [
      "1\n",
      "8\n",
      "3\n",
      "8\n",
      "3\n",
      "5\n",
      "3\n"
     ]
    }
   ],
   "source": [
    "import sys\n",
    "def input() :\n",
    "  return sys.stdin.readline()\n",
    "from collections import deque\n",
    "N = int(input())\n",
    "que = deque()\n",
    "\n",
    "for i in range(N) :\n",
    "  command = input().split()\n",
    "  order = int(command[0])\n",
    "  \n",
    "  if order == 1 :\n",
    "    num = command[1]\n",
    "    que.appendleft(num)\n",
    "  elif order == 2:\n",
    "    num = command[1]\n",
    "    que.append(num)\n",
    "  elif order == 3:\n",
    "    if que : \n",
    "      print(que.popleft())\n",
    "    else :\n",
    "      print(-1)\n",
    "  elif order == 4:\n",
    "    if que : \n",
    "      print(que.pop())\n",
    "    else :\n",
    "      print(-1)\n",
    "  elif order == 5:\n",
    "    print(len(que))\n",
    "  elif order == 6:\n",
    "    if que :\n",
    "      print(0)\n",
    "    else :\n",
    "      print(1)\n",
    "  elif order == 7:\n",
    "    if que :\n",
    "      print(que[0])\n",
    "    else : \n",
    "      print(-1)\n",
    "  elif order == 8:\n",
    "    if que :\n",
    "      print(que[-1])\n",
    "    else : \n",
    "      print(-1)"
   ]
  }
 ],
 "metadata": {
  "kernelspec": {
   "display_name": "codingTest",
   "language": "python",
   "name": "codingtest"
  }
 },
 "nbformat": 4,
 "nbformat_minor": 2
}
