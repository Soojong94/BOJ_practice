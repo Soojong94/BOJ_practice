{
 "cells": [
  {
   "cell_type": "code",
   "execution_count": 1,
   "metadata": {},
   "outputs": [
    {
     "name": "stdout",
     "output_type": "stream",
     "text": [
      "2\n"
     ]
    }
   ],
   "source": [
    "from collections import deque\n",
    "import sys\n",
    "\n",
    "def input() :\n",
    "  return sys.stdin.readline()\n",
    "\n",
    "N = int(input())\n",
    "que1 = deque()\n",
    "\n",
    "for i in range (N) :\n",
    "  order = input().split()\n",
    "  \n",
    "  if order[0] == 'push' : \n",
    "    que1.append(order[1])\n",
    "    \n",
    "  elif order[0] == 'pop' : \n",
    "    if que1 :\n",
    "      print(que1.popleft())\n",
    "    else :\n",
    "      print(-1)\n",
    "      \n",
    "  elif order[0] == 'size' : \n",
    "    print(len(que1))\n",
    "    \n",
    "  elif order[0] == 'empty' : \n",
    "    if que1 :\n",
    "      print(0)\n",
    "    else :\n",
    "      print(1)\n",
    "      \n",
    "  elif order[0] == 'front' :\n",
    "    if que1 :\n",
    "      print(que1[0])\n",
    "    else :\n",
    "      print(-1) \n",
    "      \n",
    "  elif order[0] == 'back':\n",
    "    if que1:\n",
    "      print(que1[-1])\n",
    "    else:\n",
    "      print(-1)"
   ]
  }
 ],
 "metadata": {
  "kernelspec": {
   "display_name": "codingTest",
   "language": "python",
   "name": "codingtest"
  }
 },
 "nbformat": 4,
 "nbformat_minor": 2
}
