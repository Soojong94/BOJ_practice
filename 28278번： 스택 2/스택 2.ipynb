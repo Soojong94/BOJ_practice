{
 "cells": [
  {
   "cell_type": "code",
   "execution_count": 11,
   "metadata": {},
   "outputs": [
    {
     "name": "stdout",
     "output_type": "stream",
     "text": [
      "1\n",
      "2\n",
      "5\n",
      "3\n",
      "3\n",
      "-1\n",
      "-1\n"
     ]
    }
   ],
   "source": [
    "import sys\n",
    "def input() :\n",
    "    return sys.stdin.readline()\n",
    "\n",
    "N = int(input())\n",
    "nums = []\n",
    "nums_size = 0\n",
    "\n",
    "for i in range(N):\n",
    "    input_line = input().split()\n",
    "    input_num = int(input_line[0])\n",
    "\n",
    "    if input_num == 1:\n",
    "        X = int(input_line[1])\n",
    "        nums.append(X)\n",
    "        nums_size += 1\n",
    "    elif input_num == 2:\n",
    "        if nums_size == 0:\n",
    "            print(-1)\n",
    "        else:\n",
    "            print(nums[-1])\n",
    "            nums.pop()\n",
    "            nums_size -= 1\n",
    "    elif input_num == 3:\n",
    "        print(nums_size)\n",
    "    elif input_num == 4:\n",
    "        if nums_size == 0:\n",
    "            print(1)\n",
    "        else:\n",
    "            print(0)\n",
    "    elif input_num == 5:\n",
    "        if nums_size == 0:\n",
    "            print(-1)\n",
    "        else:\n",
    "            print(nums[-1])\n"
   ]
  }
 ],
 "metadata": {
  "kernelspec": {
   "display_name": "base",
   "language": "python",
   "name": "python3"
  },
  "language_info": {
   "codemirror_mode": {
    "name": "ipython",
    "version": 3
   },
   "file_extension": ".py",
   "mimetype": "text/x-python",
   "name": "python",
   "nbconvert_exporter": "python",
   "pygments_lexer": "ipython3",
   "version": "3.11.5"
  }
 },
 "nbformat": 4,
 "nbformat_minor": 2
}
