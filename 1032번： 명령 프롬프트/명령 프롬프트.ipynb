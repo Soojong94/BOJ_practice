{
 "cells": [
  {
   "cell_type": "code",
   "execution_count": 32,
   "metadata": {},
   "outputs": [
    {
     "name": "stdout",
     "output_type": "stream",
     "text": [
      "ab??\n"
     ]
    }
   ],
   "source": [
    "N = int(input())\n",
    "strList = []\n",
    "\n",
    "for i in range(N) :\n",
    "  letters = input()\n",
    "  strList.append(list(letters))\n",
    "\n",
    "for j in range(1, N) :\n",
    "  for k in range(len(strList[0])) :\n",
    "    if strList[0][k] != strList[j][k] :\n",
    "      strList[0][k] = \"?\"\n",
    "\n",
    "print(\"\".join(strList[0])) "
   ]
  }
 ],
 "metadata": {
  "kernelspec": {
   "display_name": "base",
   "language": "python",
   "name": "python3"
  },
  "language_info": {
   "codemirror_mode": {
    "name": "ipython",
    "version": 3
   },
   "file_extension": ".py",
   "mimetype": "text/x-python",
   "name": "python",
   "nbconvert_exporter": "python",
   "pygments_lexer": "ipython3",
   "version": "3.11.5"
  }
 },
 "nbformat": 4,
 "nbformat_minor": 2
}
