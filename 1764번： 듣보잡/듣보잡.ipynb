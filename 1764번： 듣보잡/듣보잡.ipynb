{
 "cells": [
  {
   "cell_type": "code",
   "execution_count": 12,
   "metadata": {},
   "outputs": [
    {
     "ename": "ValueError",
     "evalue": "not enough values to unpack (expected 2, got 0)",
     "output_type": "error",
     "traceback": [
      "\u001b[1;31m---------------------------------------------------------------------------\u001b[0m",
      "\u001b[1;31mValueError\u001b[0m                                Traceback (most recent call last)",
      "Cell \u001b[1;32mIn[12], line 1\u001b[0m\n\u001b[1;32m----> 1\u001b[0m N, M\u001b[38;5;241m=\u001b[39m \u001b[38;5;28mmap\u001b[39m(\u001b[38;5;28mint\u001b[39m, (\u001b[38;5;28minput\u001b[39m()\u001b[38;5;241m.\u001b[39msplit()))\n\u001b[0;32m      2\u001b[0m cnt \u001b[38;5;241m=\u001b[39m \u001b[38;5;241m0\u001b[39m\n\u001b[0;32m      4\u001b[0m Nstr \u001b[38;5;241m=\u001b[39m {\u001b[38;5;28minput\u001b[39m() : \u001b[38;5;241m0\u001b[39m \u001b[38;5;28;01mfor\u001b[39;00m i \u001b[38;5;129;01min\u001b[39;00m \u001b[38;5;28mrange\u001b[39m(N) }\n",
      "\u001b[1;31mValueError\u001b[0m: not enough values to unpack (expected 2, got 0)"
     ]
    }
   ],
   "source": [
    "N, M= map(int, (input().split()))\n",
    "cnt = 0\n",
    "\n",
    "Nstr = {input() : 0 for i in range(N) }\n",
    "Mstr = {input() : 0 for i in range(M) }\n",
    "\n",
    "people = []\n",
    "\n",
    "for person in Nstr :\n",
    "  if person in Mstr :\n",
    "    people.append(person)\n",
    "    cnt += 1\n",
    "    \n",
    "print(cnt)\n",
    "people.sort()\n",
    "\n",
    "for i in people :\n",
    "  print(i)"
   ]
  },
  {
   "cell_type": "code",
   "execution_count": null,
   "metadata": {},
   "outputs": [],
   "source": [
    "# gpt 코드\n",
    "# & 을 사용해서 교집합만 남기면 됨\n",
    "\n",
    "N, M = map(int, input().split())\n",
    "cnt = 0\n",
    "\n",
    "Nstr_set = {input() for _ in range(N)}\n",
    "Mstr_set = {input() for _ in range(M)}\n",
    "intersection = Nstr_set & Mstr_set\n",
    "\n",
    "print(len(intersection))\n",
    "for person in sorted(intersection):\n",
    "    print(person)\n"
   ]
  }
 ],
 "metadata": {
  "kernelspec": {
   "display_name": "base",
   "language": "python",
   "name": "python3"
  },
  "language_info": {
   "codemirror_mode": {
    "name": "ipython",
    "version": 3
   },
   "file_extension": ".py",
   "mimetype": "text/x-python",
   "name": "python",
   "nbconvert_exporter": "python",
   "pygments_lexer": "ipython3",
   "version": "3.11.5"
  }
 },
 "nbformat": 4,
 "nbformat_minor": 2
}
