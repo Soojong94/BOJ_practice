{
 "cells": [
  {
   "cell_type": "code",
   "execution_count": 3,
   "metadata": {},
   "outputs": [
    {
     "name": "stdout",
     "output_type": "stream",
     "text": [
      "7\n"
     ]
    }
   ],
   "source": [
    "import sys\n",
    "def input() :\n",
    "  return sys.stdin.readline()\n",
    "\n",
    "K = int(input())\n",
    "Knums = []\n",
    "cnt = 0\n",
    "for i in range(K) :\n",
    "  num = int(input())\n",
    "  if num != 0 :\n",
    "    Knums.append(num)\n",
    "  else :\n",
    "    Knums.pop()\n",
    "if len(Knums) > 0 :\n",
    "  for i in Knums :\n",
    "    cnt += i\n",
    "print(cnt)"
   ]
  },
  {
   "cell_type": "code",
   "execution_count": null,
   "metadata": {},
   "outputs": [],
   "source": []
  }
 ],
 "metadata": {
  "kernelspec": {
   "display_name": "base",
   "language": "python",
   "name": "python3"
  },
  "language_info": {
   "codemirror_mode": {
    "name": "ipython",
    "version": 3
   },
   "file_extension": ".py",
   "mimetype": "text/x-python",
   "name": "python",
   "nbconvert_exporter": "python",
   "pygments_lexer": "ipython3",
   "version": "3.11.5"
  }
 },
 "nbformat": 4,
 "nbformat_minor": 2
}
