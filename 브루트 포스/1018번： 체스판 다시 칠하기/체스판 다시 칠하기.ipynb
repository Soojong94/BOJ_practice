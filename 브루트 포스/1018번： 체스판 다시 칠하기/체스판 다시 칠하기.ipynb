{
 "cells": [
  {
   "cell_type": "markdown",
   "metadata": {},
   "source": [
    "N , M 을 입력 받아\n",
    "가로 세로 N * M 크기의 배열을 입력 받음\n",
    "그 중에서 어느 지점을 골라야 최소한의 변화로 체스판을 만들 수 있는지\n",
    "0,0 의 색깔이 정해지면 나머지도 정해짐"
   ]
  },
  {
   "cell_type": "code",
   "execution_count": 2,
   "metadata": {},
   "outputs": [
    {
     "ename": "KeyboardInterrupt",
     "evalue": "Interrupted by user",
     "output_type": "error",
     "traceback": [
      "\u001b[1;31m---------------------------------------------------------------------------\u001b[0m",
      "\u001b[1;31mKeyboardInterrupt\u001b[0m                         Traceback (most recent call last)",
      "Cell \u001b[1;32mIn[2], line 4\u001b[0m\n\u001b[0;32m      2\u001b[0m board \u001b[38;5;241m=\u001b[39m []\n\u001b[0;32m      3\u001b[0m \u001b[38;5;28;01mfor\u001b[39;00m i \u001b[38;5;129;01min\u001b[39;00m \u001b[38;5;28mrange\u001b[39m(N):\n\u001b[1;32m----> 4\u001b[0m     row \u001b[38;5;241m=\u001b[39m \u001b[38;5;28minput\u001b[39m()\n\u001b[0;32m      5\u001b[0m     board\u001b[38;5;241m.\u001b[39mappend(row)\n\u001b[0;32m      7\u001b[0m min_cnt \u001b[38;5;241m=\u001b[39m \u001b[38;5;28mfloat\u001b[39m(\u001b[38;5;124m'\u001b[39m\u001b[38;5;124minf\u001b[39m\u001b[38;5;124m'\u001b[39m)  \n",
      "File \u001b[1;32mc:\\Users\\smhrd\\anaconda3\\Lib\\site-packages\\ipykernel\\kernelbase.py:1202\u001b[0m, in \u001b[0;36mKernel.raw_input\u001b[1;34m(self, prompt)\u001b[0m\n\u001b[0;32m   1200\u001b[0m     msg \u001b[38;5;241m=\u001b[39m \u001b[38;5;124m\"\u001b[39m\u001b[38;5;124mraw_input was called, but this frontend does not support input requests.\u001b[39m\u001b[38;5;124m\"\u001b[39m\n\u001b[0;32m   1201\u001b[0m     \u001b[38;5;28;01mraise\u001b[39;00m StdinNotImplementedError(msg)\n\u001b[1;32m-> 1202\u001b[0m \u001b[38;5;28;01mreturn\u001b[39;00m \u001b[38;5;28mself\u001b[39m\u001b[38;5;241m.\u001b[39m_input_request(\n\u001b[0;32m   1203\u001b[0m     \u001b[38;5;28mstr\u001b[39m(prompt),\n\u001b[0;32m   1204\u001b[0m     \u001b[38;5;28mself\u001b[39m\u001b[38;5;241m.\u001b[39m_parent_ident[\u001b[38;5;124m\"\u001b[39m\u001b[38;5;124mshell\u001b[39m\u001b[38;5;124m\"\u001b[39m],\n\u001b[0;32m   1205\u001b[0m     \u001b[38;5;28mself\u001b[39m\u001b[38;5;241m.\u001b[39mget_parent(\u001b[38;5;124m\"\u001b[39m\u001b[38;5;124mshell\u001b[39m\u001b[38;5;124m\"\u001b[39m),\n\u001b[0;32m   1206\u001b[0m     password\u001b[38;5;241m=\u001b[39m\u001b[38;5;28;01mFalse\u001b[39;00m,\n\u001b[0;32m   1207\u001b[0m )\n",
      "File \u001b[1;32mc:\\Users\\smhrd\\anaconda3\\Lib\\site-packages\\ipykernel\\kernelbase.py:1245\u001b[0m, in \u001b[0;36mKernel._input_request\u001b[1;34m(self, prompt, ident, parent, password)\u001b[0m\n\u001b[0;32m   1242\u001b[0m \u001b[38;5;28;01mexcept\u001b[39;00m \u001b[38;5;167;01mKeyboardInterrupt\u001b[39;00m:\n\u001b[0;32m   1243\u001b[0m     \u001b[38;5;66;03m# re-raise KeyboardInterrupt, to truncate traceback\u001b[39;00m\n\u001b[0;32m   1244\u001b[0m     msg \u001b[38;5;241m=\u001b[39m \u001b[38;5;124m\"\u001b[39m\u001b[38;5;124mInterrupted by user\u001b[39m\u001b[38;5;124m\"\u001b[39m\n\u001b[1;32m-> 1245\u001b[0m     \u001b[38;5;28;01mraise\u001b[39;00m \u001b[38;5;167;01mKeyboardInterrupt\u001b[39;00m(msg) \u001b[38;5;28;01mfrom\u001b[39;00m \u001b[38;5;28;01mNone\u001b[39;00m\n\u001b[0;32m   1246\u001b[0m \u001b[38;5;28;01mexcept\u001b[39;00m \u001b[38;5;167;01mException\u001b[39;00m:\n\u001b[0;32m   1247\u001b[0m     \u001b[38;5;28mself\u001b[39m\u001b[38;5;241m.\u001b[39mlog\u001b[38;5;241m.\u001b[39mwarning(\u001b[38;5;124m\"\u001b[39m\u001b[38;5;124mInvalid Message:\u001b[39m\u001b[38;5;124m\"\u001b[39m, exc_info\u001b[38;5;241m=\u001b[39m\u001b[38;5;28;01mTrue\u001b[39;00m)\n",
      "\u001b[1;31mKeyboardInterrupt\u001b[0m: Interrupted by user"
     ]
    }
   ],
   "source": [
    "N, M = map(int, input().split())\n",
    "board = []\n",
    "for i in range(N):\n",
    "    row = input()\n",
    "    board.append(row)\n",
    "\n",
    "min_cnt = float('inf')\n",
    "cnt = 0\n",
    "\n",
    "for i in range(N - 7):\n",
    "    for j in range(M - 7):\n",
    "        \n",
    "        for x in range(i, i + 7):\n",
    "            for y in range(j, j + 7):\n",
    "                \n",
    "                \n",
    "                if board[x][y] == board[x][y+1] :\n",
    "                    cnt += 1\n",
    "            if board[x][y] == board[x+1][y] :\n",
    "                cnt += 1\n",
    "                \n",
    "answer = min(min_cnt, cnt)\n",
    "\n",
    "print(answer)\n",
    "\n"
   ]
  },
  {
   "cell_type": "code",
   "execution_count": null,
   "metadata": {},
   "outputs": [],
   "source": [
    "N, M = map(int, input().split())\n",
    "board = []\n",
    "for i in range(N):\n",
    "    row = input()\n",
    "    board.append(row)\n",
    "\n",
    "min_cnt = float('inf')\n",
    "\n",
    "\n",
    "for i in range(N - 7):\n",
    "    for j in range(M - 7):\n",
    "        cnt1 = 0 \n",
    "        cnt2 = 0  \n",
    "        for x in range(i, i + 8):\n",
    "            for y in range(j, j + 8):\n",
    "                # (x+y)가 짝수일 때 (행+열 합이 짝수) 시작점이 'W'인 경우\n",
    "                if (x + y) % 2 == 0:\n",
    "                    if board[x][y] != 'W':\n",
    "                        cnt1 += 1\n",
    "                # (x+y)가 홀수일 때 시작점이 'W'인 경우\n",
    "                else:\n",
    "                    if board[x][y] != 'B':\n",
    "                        cnt1 += 1\n",
    "                # (x+y)가 짝수일 때 (행+열 합이 짝수) 시작점이 'B'인 경우\n",
    "                if (x + y) % 2 == 0:\n",
    "                    if board[x][y] != 'B':\n",
    "                        cnt2 += 1\n",
    "                # (x+y)가 홀수일 때 시작점이 'B'인 경우\n",
    "                else:\n",
    "                    if board[x][y] != 'W':\n",
    "                        cnt2 += 1\n",
    "        min_cnt = min(min_cnt, cnt1, cnt2)  # 최소 변경 횟수 업데이트\n",
    "\n",
    "print(min_cnt)\n"
   ]
  },
  {
   "cell_type": "markdown",
   "metadata": {},
   "source": []
  },
  {
   "cell_type": "code",
   "execution_count": 6,
   "metadata": {},
   "outputs": [
    {
     "name": "stdout",
     "output_type": "stream",
     "text": [
      "inf\n"
     ]
    }
   ],
   "source": [
    "min_cnt = float('inf')\n",
    "print(min_cnt)"
   ]
  }
 ],
 "metadata": {
  "kernelspec": {
   "display_name": "base",
   "language": "python",
   "name": "python3"
  },
  "language_info": {
   "codemirror_mode": {
    "name": "ipython",
    "version": 3
   },
   "file_extension": ".py",
   "mimetype": "text/x-python",
   "name": "python",
   "nbconvert_exporter": "python",
   "pygments_lexer": "ipython3",
   "version": "3.11.5"
  }
 },
 "nbformat": 4,
 "nbformat_minor": 2
}
