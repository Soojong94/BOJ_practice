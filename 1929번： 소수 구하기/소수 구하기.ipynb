{
 "cells": [
  {
   "cell_type": "code",
   "execution_count": 16,
   "metadata": {},
   "outputs": [
    {
     "name": "stdout",
     "output_type": "stream",
     "text": [
      "2\n",
      "3\n",
      "5\n",
      "7\n",
      "11\n",
      "13\n"
     ]
    }
   ],
   "source": [
    "import sys\n",
    "  \n",
    "def input() :\n",
    "  return sys.stdin.readline()\n",
    "\n",
    "def isPrime (num) :\n",
    "  for i in range(2, int(num**(1/2))+1) :\n",
    "    if num % i == 0 :\n",
    "      return False\n",
    "  return True\n",
    "\n",
    "M , N = map(int, input().split())\n",
    "for i in range(M, N+1) :\n",
    "  if i <= 1 :\n",
    "    continue\n",
    "  elif isPrime(i) :\n",
    "    print(i)\n"
   ]
  }
 ],
 "metadata": {
  "kernelspec": {
   "display_name": "base",
   "language": "python",
   "name": "python3"
  },
  "language_info": {
   "codemirror_mode": {
    "name": "ipython",
    "version": 3
   },
   "file_extension": ".py",
   "mimetype": "text/x-python",
   "name": "python",
   "nbconvert_exporter": "python",
   "pygments_lexer": "ipython3",
   "version": "3.11.5"
  }
 },
 "nbformat": 4,
 "nbformat_minor": 2
}
