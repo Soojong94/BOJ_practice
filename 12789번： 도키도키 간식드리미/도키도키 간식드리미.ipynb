{
 "cells": [
  {
   "cell_type": "code",
   "execution_count": 22,
   "metadata": {},
   "outputs": [
    {
     "name": "stdout",
     "output_type": "stream",
     "text": [
      "Sad\n"
     ]
    }
   ],
   "source": [
    "from collections import deque\n",
    "\n",
    "N = int(input())\n",
    "nums = deque(map(int, input().split()))\n",
    "stack = []\n",
    "target = 1\n",
    "\n",
    "while target <= N:\n",
    "    if nums and nums[0] == target:\n",
    "        nums.popleft()\n",
    "        target += 1\n",
    "    elif stack and stack[-1] == target:\n",
    "        stack.pop()\n",
    "        target += 1\n",
    "    else:\n",
    "        if nums:\n",
    "            stack.append(nums.popleft())\n",
    "        else:\n",
    "            break\n",
    "        \n",
    "\n",
    "if stack :\n",
    "  print('Sad')\n",
    "else :\n",
    "  print('Nice')\n",
    "  "
   ]
  },
  {
   "cell_type": "code",
   "execution_count": 26,
   "metadata": {},
   "outputs": [
    {
     "name": "stdout",
     "output_type": "stream",
     "text": [
      "Nice\n"
     ]
    }
   ],
   "source": [
    "N = int(input())\n",
    "nums = list(map(int, input().split()))\n",
    "stack = []\n",
    "target = 1\n",
    "\n",
    "while target <= N:\n",
    "    if nums and nums[0] == target:\n",
    "        nums.pop(0)\n",
    "        target += 1\n",
    "    elif stack and stack[-1] == target:\n",
    "        stack.pop()\n",
    "        target += 1\n",
    "    else:\n",
    "        if nums:\n",
    "            stack.append(nums.pop(0)) \n",
    "        else:\n",
    "            break\n",
    "\n",
    "if stack:\n",
    "    print('Sad')\n",
    "else:\n",
    "    print('Nice')\n"
   ]
  }
 ],
 "metadata": {
  "kernelspec": {
   "display_name": "codingTest",
   "language": "python",
   "name": "codingtest"
  }
 },
 "nbformat": 4,
 "nbformat_minor": 2
}
