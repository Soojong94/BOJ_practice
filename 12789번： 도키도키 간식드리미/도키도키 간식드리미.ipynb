{
 "cells": [
  {
   "cell_type": "code",
   "execution_count": 26,
   "metadata": {},
   "outputs": [
    {
     "name": "stdout",
     "output_type": "stream",
     "text": [
      "[5, 4, 1, 3, 2]\n",
      "Sad\n"
     ]
    }
   ],
   "source": [
    "N = int(input())\n",
    "nums = list(map(int, input().split()))\n",
    "stack = []\n",
    "target = 1\n",
    "\n",
    "\n",
    "  \n",
    "print(stack)\n",
    "if stack :\n",
    "  print('Sad')\n",
    "else :\n",
    "  print('Nice')"
   ]
  }
 ],
 "metadata": {
  "kernelspec": {
   "display_name": "codingTest",
   "language": "python",
   "name": "codingtest"
  }
 },
 "nbformat": 4,
 "nbformat_minor": 2
}
