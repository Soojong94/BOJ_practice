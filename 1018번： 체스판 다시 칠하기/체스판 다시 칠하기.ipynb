{
 "cells": [
  {
   "cell_type": "markdown",
   "metadata": {},
   "source": [
    "N , M 을 입력 받아\n",
    "가로 세로 N * M 크기의 배열을 입력 받음\n",
    "그 중에서 어느 지점을 골라야 최소한의 변화로 체스판을 만들 수 있는지\n",
    "0,0 의 색깔이 정해지면 나머지도 정해짐"
   ]
  },
  {
   "cell_type": "code",
   "execution_count": 6,
   "metadata": {},
   "outputs": [
    {
     "name": "stdout",
     "output_type": "stream",
     "text": [
      "0\n"
     ]
    }
   ],
   "source": [
    "N, M = map(int, input().split())\n",
    "board = []\n",
    "for i in range(N):\n",
    "    row = input()\n",
    "    board.append(row)\n",
    "\n",
    "min_cnt = float('inf')  \n",
    "\n",
    "for i in range(N - 7):\n",
    "    for j in range(M - 7):\n",
    "        cnt1 = 0 \n",
    "        cnt2 = 0 \n",
    "        for x in range(i, i + 8):\n",
    "            for y in range(j, j + 8):\n",
    "                # 왼쪽 위 칸이 'W'인 경우\n",
    "                if (x + y) % 2 == 0:\n",
    "                    if board[x][y] != 'W':\n",
    "                        cnt1 += 1\n",
    "                # 왼쪽 위 칸이 'B'인 경우\n",
    "                else:\n",
    "                    if board[x][y] != 'B':\n",
    "                        cnt2 += 1\n",
    "        min_cnt = min(min_cnt, cnt1, cnt2) \n",
    "\n",
    "print(min_cnt)\n"
   ]
  }
 ],
 "metadata": {
  "kernelspec": {
   "display_name": "base",
   "language": "python",
   "name": "python3"
  },
  "language_info": {
   "codemirror_mode": {
    "name": "ipython",
    "version": 3
   },
   "file_extension": ".py",
   "mimetype": "text/x-python",
   "name": "python",
   "nbconvert_exporter": "python",
   "pygments_lexer": "ipython3",
   "version": "3.11.5"
  }
 },
 "nbformat": 4,
 "nbformat_minor": 2
}
