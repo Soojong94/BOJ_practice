{
 "cells": [
  {
   "cell_type": "markdown",
   "metadata": {},
   "source": [
    "undefined ************************************************************************** undefined\n",
    "undefined                                                                            undefined\n",
    "undefined                                               :::    :::    :::            undefined\n",
    "undefProblem Number: 1018                              :+:    :+:      :+:           undefined\n",
    "undefined                                             +:+    +:+        +:+          undefined\n",
    "undefBy: sujjong456 <boj.kr/u/sujjong456>            +#+    +#+          +#+         undefined\n",
    "undefined                                           +#+      +#+        +#+          undefined\n",
    "undefhttps://boj.kr/1018                           #+#        #+#      #+#           undefined\n",
    "undefSolved: 2024/04/07 09:51:47 by sujjong456    ###          ###   ##.kr           undefined\n",
    "undefined                                                                            undefined\n",
    "undefined ************************************************************************** undefined\n"
   ]
  },
  {
   "cell_type": "markdown",
   "metadata": {},
   "source": [
    "N , M 을 입력 받아\n",
    "가로 세로 N * M 크기의 배열을 입력 받음\n",
    "그 중에서 어느 지점을 골라야 최소한의 변화로 체스판을 만들 수 있는지\n",
    "0,0 의 색깔이 정해지면 나머지도 정해짐"
   ]
  },
  {
   "cell_type": "code",
   "execution_count": null,
   "metadata": {},
   "outputs": [],
   "source": []
  }
 ],
 "metadata": {
  "language_info": {
   "name": "python"
  }
 },
 "nbformat": 4,
 "nbformat_minor": 2
}
