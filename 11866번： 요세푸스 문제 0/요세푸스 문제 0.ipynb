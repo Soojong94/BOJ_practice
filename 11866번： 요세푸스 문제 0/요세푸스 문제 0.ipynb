{
 "cells": [
  {
   "cell_type": "code",
   "execution_count": 29,
   "metadata": {},
   "outputs": [
    {
     "name": "stdout",
     "output_type": "stream",
     "text": [
      "<3, 1, 5, 2, 4>\n"
     ]
    }
   ],
   "source": [
    "from collections import deque\n",
    "import sys\n",
    "\n",
    "def input() :\n",
    "  return sys.stdin.readline()\n",
    "\n",
    "N, K  = map(int,input().split())\n",
    "que = deque()\n",
    "que.extend([i for i in range(1,N+1)])\n",
    "stack = []\n",
    "\n",
    "while len(que) > 0 :\n",
    "  for i in range(K-1) :\n",
    "    que.append(que.popleft())\n",
    "  stack.append(que.popleft())\n",
    "\n",
    "print(\"<\", end='')\n",
    "print(*stack, sep=', ', end='')\n",
    "print(\">\")"
   ]
  }
 ],
 "metadata": {
  "kernelspec": {
   "display_name": "codingTest",
   "language": "python",
   "name": "codingtest"
  }
 },
 "nbformat": 4,
 "nbformat_minor": 2
}
