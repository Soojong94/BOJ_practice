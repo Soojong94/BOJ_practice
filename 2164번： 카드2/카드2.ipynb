{
 "cells": [
  {
   "cell_type": "code",
   "execution_count": 18,
   "metadata": {},
   "outputs": [
    {
     "name": "stdout",
     "output_type": "stream",
     "text": [
      "4\n"
     ]
    }
   ],
   "source": [
    "import sys\n",
    "def input() :\n",
    "  return sys.stdin.readline()\n",
    "from collections import deque\n",
    "\n",
    "N = int(input())\n",
    "que = deque()\n",
    "que.extend([i for i in range(1,N+1)])\n",
    "\n",
    "while len(que) > 1 :\n",
    "  que.popleft()\n",
    "  que.append(que.popleft())\n",
    "  \n",
    "print(que[0])"
   ]
  },
  {
   "cell_type": "markdown",
   "metadata": {},
   "source": []
  },
  {
   "cell_type": "code",
   "execution_count": null,
   "metadata": {},
   "outputs": [],
   "source": []
  }
 ],
 "metadata": {
  "kernelspec": {
   "display_name": "codingTest",
   "language": "python",
   "name": "codingtest"
  },
  "language_info": {
   "codemirror_mode": {
    "name": "ipython",
    "version": 3
   },
   "file_extension": ".py",
   "mimetype": "text/x-python",
   "name": "python",
   "nbconvert_exporter": "python",
   "pygments_lexer": "ipython3",
   "version": "3.12.2"
  }
 },
 "nbformat": 4,
 "nbformat_minor": 2
}
