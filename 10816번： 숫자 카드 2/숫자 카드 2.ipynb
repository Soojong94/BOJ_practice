{
 "cells": [
  {
   "cell_type": "code",
   "execution_count": 10,
   "metadata": {},
   "outputs": [
    {
     "name": "stdout",
     "output_type": "stream",
     "text": [
      "1 2 0 {1: 1, 3: 2}\n"
     ]
    }
   ],
   "source": [
    "N = int(input())\n",
    "Nnums = list((map(int, input().split())))\n",
    "  \n",
    "M = int(input())\n",
    "Mnums = list((map(int, input().split())))\n",
    "\n",
    "count = {}\n",
    "\n",
    "for num in Nnums:\n",
    "    if num in count:\n",
    "        count[num] += 1  \n",
    "    else:\n",
    "        count[num] = 1\n",
    "\n",
    "for num in Mnums:\n",
    "    print(count.get(num, 0), end=' ')"
   ]
  }
 ],
 "metadata": {
  "kernelspec": {
   "display_name": "base",
   "language": "python",
   "name": "python3"
  },
  "language_info": {
   "codemirror_mode": {
    "name": "ipython",
    "version": 3
   },
   "file_extension": ".py",
   "mimetype": "text/x-python",
   "name": "python",
   "nbconvert_exporter": "python",
   "pygments_lexer": "ipython3",
   "version": "3.11.5"
  }
 },
 "nbformat": 4,
 "nbformat_minor": 2
}
