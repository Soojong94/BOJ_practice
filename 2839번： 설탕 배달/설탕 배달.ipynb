{
 "cells": [
  {
<<<<<<< HEAD
   "cell_type": "code",
   "execution_count": 12,
=======
   "cell_type": "markdown",
   "metadata": {},
   "source": [
    "N에서 3씩 빼면서 5로 나눠지는지 확인 3을 몇번 빼는지 cnt 로 확인"
   ]
  },
  {
   "cell_type": "code",
   "execution_count": 42,
>>>>>>> a3b161fb23e9c77d7173e09b740980eaf522ba6f
   "metadata": {},
   "outputs": [
    {
     "name": "stdout",
     "output_type": "stream",
     "text": [
<<<<<<< HEAD
      "15\n"
=======
      "4\n"
>>>>>>> a3b161fb23e9c77d7173e09b740980eaf522ba6f
     ]
    }
   ],
   "source": [
    "N = int(input())\n",
<<<<<<< HEAD
    "print(N)\n"
=======
    "cnt = 0\n",
    "\n",
    "\n",
    "while N >= 0 :\n",
    "  if N % 5 == 0 :\n",
    "    cnt = cnt + N // 5\n",
    "    break\n",
    "  elif N % 5 != 0 :\n",
    "    N -= 3 \n",
    "    cnt += 1\n",
    "    if N < 0 :\n",
    "      cnt = -1\n",
    "      \n",
    "print(cnt)\n",
    "  "
>>>>>>> a3b161fb23e9c77d7173e09b740980eaf522ba6f
   ]
  }
 ],
 "metadata": {
  "kernelspec": {
   "display_name": "base",
   "language": "python",
   "name": "python3"
  },
  "language_info": {
   "codemirror_mode": {
    "name": "ipython",
    "version": 3
   },
   "file_extension": ".py",
   "mimetype": "text/x-python",
   "name": "python",
   "nbconvert_exporter": "python",
   "pygments_lexer": "ipython3",
   "version": "3.11.5"
  }
 },
 "nbformat": 4,
 "nbformat_minor": 2
}
