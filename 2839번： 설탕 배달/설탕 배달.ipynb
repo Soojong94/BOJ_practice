{
 "cells": [
  {
   "cell_type": "markdown",
   "metadata": {},
   "source": [
    "5의 배수라면 나눈 몫\n",
    "1,2,4,7 빼면 나머지는 무조건 나눌수있음\n",
    "5로 나눈 나머지를 구하고, 1,2,4 인 경우를 나눠서 식을 짜기"
   ]
  },
  {
   "cell_type": "code",
   "execution_count": 61,
   "metadata": {},
   "outputs": [
    {
     "name": "stdout",
     "output_type": "stream",
     "text": [
      "7\n"
     ]
    }
   ],
   "source": [
    "N = int(input())\n",
    "\n",
    "if N in [1, 2, 4, 7]:\n",
    "    print(-1)\n",
    "elif N % 5 == 0:\n",
    "    print(N // 5)\n",
    "elif N % 5 == 3:\n",
    "    print(N // 5 + 1)\n",
    "elif N % 5 == 1 or N % 5 == 2 or N % 5 == 4:\n",
    "    N1 = N // 5\n",
    "    N2 = N // 5 - 1\n",
    "    N3 = N // 5 - 2\n",
    "    if ((N1 * 5) - (N2 * 5)) % 3 == 0:\n",
    "        print(N2 + ((N1 * 5) - (N2 * 5)) // 3)\n",
    "    else:\n",
    "        print(N + ((N2 * 5) - (N3 * 5)) // 3)\n"
   ]
  }
 ],
 "metadata": {
  "kernelspec": {
   "display_name": "base",
   "language": "python",
   "name": "python3"
  },
  "language_info": {
   "codemirror_mode": {
    "name": "ipython",
    "version": 3
   },
   "file_extension": ".py",
   "mimetype": "text/x-python",
   "name": "python",
   "nbconvert_exporter": "python",
   "pygments_lexer": "ipython3",
   "version": "3.11.5"
  }
 },
 "nbformat": 4,
 "nbformat_minor": 2
}
