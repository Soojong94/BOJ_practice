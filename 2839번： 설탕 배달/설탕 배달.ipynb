{
 "cells": [
  {
   "cell_type": "code",
   "execution_count": null,
   "metadata": {},
   "outputs": [],
   "source": [
    "N = int(input())\n",
    "cnt = 0\n",
    "\n",
    "\n",
    "while N >= 0 :\n",
    "  if N % 5 == 0 :\n",
    "    cnt = cnt + N // 5\n",
    "    break\n",
    "  elif N % 5 != 0 :\n",
    "    N -= 3 \n",
    "    cnt += 1\n",
    "    if N < 0 :\n",
    "      cnt = -1\n",
    "      \n",
    "print(cnt)"
   ]
  }
 ],
 "metadata": {
  "kernelspec": {
   "display_name": "base",
   "language": "python",
   "name": "python3"
  },
  "language_info": {
   "codemirror_mode": {
    "name": "ipython",
    "version": 3
   },
   "file_extension": ".py",
   "mimetype": "text/x-python",
   "name": "python",
   "nbconvert_exporter": "python",
   "pygments_lexer": "ipython3",
   "version": "3.11.5"
  }
 },
 "nbformat": 4,
 "nbformat_minor": 2
}
