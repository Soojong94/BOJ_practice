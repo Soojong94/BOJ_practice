{
 "cells": [
  {
   "cell_type": "code",
   "execution_count": 14,
   "metadata": {},
   "outputs": [
    {
     "name": "stdout",
     "output_type": "stream",
     "text": [
      "no\n",
      "yes\n",
      "yes\n"
     ]
    }
   ],
   "source": [
    "while True:\n",
    "    stacks = []\n",
    "    str1 = input()\n",
    "    if str1 != '.':\n",
    "        for char in str1:\n",
    "            if char in '([':\n",
    "                stacks.append(char)\n",
    "            elif char in ')]':\n",
    "                if not stacks:\n",
    "                    print('no')\n",
    "                    break\n",
    "                elif (char == ')' and stacks[-1] == '(') or (char == ']' and stacks[-1] == '['):\n",
    "                    stacks.pop()\n",
    "                else:\n",
    "                    print('no')\n",
    "                    break\n",
    "        else:\n",
    "            if stacks:\n",
    "                print('no')\n",
    "            else:\n",
    "                print('yes')\n",
    "    else:\n",
    "        break"
   ]
  }
 ],
 "metadata": {
  "kernelspec": {
   "display_name": "codingTest",
   "language": "python",
   "name": "codingtest"
  }
 },
 "nbformat": 4,
 "nbformat_minor": 2
}
