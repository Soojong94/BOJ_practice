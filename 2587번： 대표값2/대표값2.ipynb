{
 "cells": [
  {
   "cell_type": "code",
   "execution_count": 2,
   "metadata": {},
   "outputs": [
    {
     "name": "stdout",
     "output_type": "stream",
     "text": [
      "34\n",
      "50\n"
     ]
    }
   ],
   "source": [
    "nums = []\n",
    "numsSum = 0\n",
    "for i in range(5) :\n",
    "  nums.append(int(input()))\n",
    "  numsSum += nums[i]\n",
    "nums.sort()\n",
    "print(numsSum //5 )\n",
    "print(nums[2])"
   ]
  }
 ],
 "metadata": {
  "kernelspec": {
   "display_name": "base",
   "language": "python",
   "name": "python3"
  },
  "language_info": {
   "codemirror_mode": {
    "name": "ipython",
    "version": 3
   },
   "file_extension": ".py",
   "mimetype": "text/x-python",
   "name": "python",
   "nbconvert_exporter": "python",
   "pygments_lexer": "ipython3",
   "version": "3.11.5"
  }
 },
 "nbformat": 4,
 "nbformat_minor": 2
}
